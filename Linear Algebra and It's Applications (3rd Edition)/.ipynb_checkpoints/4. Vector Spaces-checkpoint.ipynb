{
 "cells": [
  {
   "cell_type": "markdown",
   "metadata": {},
   "source": [
    "# &#x1F34E; 4.1 向量空间与子空间"
   ]
  },
  {
   "cell_type": "markdown",
   "metadata": {},
   "source": [
    "&#x1F539;定义: **向量空间**是一些被称为向量的对象构成的非空集合V, 在这个集合上定义两个运算, 加法和标量乘法, 服从以下公理, 这些公理必须对所有向量u,v,w及标量c,d成立.  \n",
    "1. u + v 在V中  \n",
    "2. u + v = v + u  \n",
    "3. (u + v) + w = u + (v + w)  \n",
    "4. V中有一个零向量0, 使得 u + 0 = u  \n",
    "5. V中每个向量u, 存在向量-u, 使得 u + (-u) = 0  \n",
    "6. u与标量c的乘法记为cu, 仍在V中  \n",
    "7. c(u + v) = cu + cv\n",
    "8. (c + d)u = cu + du\n",
    "9. c(du) = (cd)u\n",
    "10. 1u = u"
   ]
  },
  {
   "cell_type": "markdown",
   "metadata": {},
   "source": [
    "对于多项式p(t)=a<sub>0</sub>+a<sub>1</sub>t+a<sub>2</sub>t<sup>2</sup>+...+a<sub>n</sub>t<sup>n</sup> 是成立的.  \n",
    "p的次数是上式中系数不为0的项中t的最高幂, 若p(t)=a<sub>0</sub>&ne;0, 则p的次数为0, 若所有系数均为0, 则p成为零多项式."
   ]
  },
  {
   "cell_type": "markdown",
   "metadata": {},
   "source": [
    "&#x1F539;定义: V的**子空间**是V的一个满足下列条件的子集H:  \n",
    "a. V中的零向量在H中.  \n",
    "b. H中任意u,v, 和u+v仍在H中.  \n",
    "c. H中任意u和任意标量c, cu仍在H中.  "
   ]
  },
  {
   "cell_type": "markdown",
   "metadata": {},
   "source": [
    "&#x1F539;零子空间: V中仅由零向量组成的集合是V的一个子空间, 叫**零子空间**, {0}"
   ]
  },
  {
   "cell_type": "markdown",
   "metadata": {},
   "source": [
    "&#x1F539;**线性组合**: 一些向量的任意标量乘法之和, Span{v<sub>1</sub>,...,v<sub>p</sub>}  "
   ]
  },
  {
   "cell_type": "markdown",
   "metadata": {},
   "source": [
    "&#x1F538; 定理1, 若v<sub>1</sub>,...v<sub>p</sub>在向量空间V中, 则Span{v<sub>1</sub>,...,v<sub>p</sub>}是V的一个子空间"
   ]
  },
  {
   "cell_type": "markdown",
   "metadata": {},
   "source": [
    "# &#x1F34E; 4.2 零空间, 列空间, 线性变换"
   ]
  },
  {
   "cell_type": "markdown",
   "metadata": {},
   "source": [
    "&#x1F539;定义: 满足Ax=0的所有x的集合为矩阵A(mxn)的**零空间**, Nul A, 它是齐次方程Ax=0的全体解的集合:  Nul A={x:x&#8712;R<sup>n</sup>, Ax=0}"
   ]
  },
  {
   "cell_type": "markdown",
   "metadata": {},
   "source": [
    "&#x1F538; 定理2, m&times;n矩阵A的零空间是R<sup>n</sup>的一个子空间, 等价的, m个方程, n个未知数的齐次线性方程组Ax=0的全体解的集合是R<sup>n</sup>的一个子空间."
   ]
  },
  {
   "cell_type": "markdown",
   "metadata": {},
   "source": [
    "Nul A的生成集中向量的个数等于方程Ax=0中自由变量的个数."
   ]
  },
  {
   "cell_type": "markdown",
   "metadata": {},
   "source": [
    "&#x1F539;m&times;n矩阵的**列空间(Col A)**是由A的列的所有线性组合组成的集合, 若A=[a<sub>1</sub>,...,a<sub>n</sub>], 则Col A=Span{a<sub>1</sub>,...,a<sub>n</sub>}"
   ]
  },
  {
   "cell_type": "markdown",
   "metadata": {},
   "source": [
    "&#x1F538; 定理3, m&times;n矩阵A的列空间是R<sup>m</sup>的一个子空间."
   ]
  },
  {
   "cell_type": "markdown",
   "metadata": {},
   "source": [
    "m&times;当且仅当方程Ax=b对Rn矩阵A的列空间等于R<sup>m</sup>"
   ]
  },
  {
   "cell_type": "markdown",
   "metadata": {},
   "source": [
    "&#x1F539;由向量空间V映射到向量空间W内的**线性变化**T是一个规则, 它将V中每个向量x映射成W中唯一向量T(x), 且满足:  \n",
    "(i) T(u+v)=T(u)+T(v),对V中所有的u,v均成立  \n",
    "(ii) T(cu)=cT(u)对V中所有的u及所有数c均成立  "
   ]
  },
  {
   "cell_type": "markdown",
   "metadata": {},
   "source": [
    "线性变换T的**核(或零空间)**是V中所有满足T(u)=0的向量u的集合(0为W中的零向量).  \n",
    "T的**值域**是W中所有具有形式T(x)(任意x&#8712;V)的向量的集合.  \n",
    "如果T是由一个矩阵变换得到的, 比如A, T(x)=Ax, 则T的核与值域恰好是前面定义的A的零空间和列空间.  \n",
    "![与线性变化相关的子空间](images/4-12.PNG \"与线性变化相关的子空间\")"
   ]
  },
  {
   "cell_type": "code",
   "execution_count": null,
   "metadata": {
    "collapsed": true
   },
   "outputs": [],
   "source": []
  }
 ],
 "metadata": {
  "kernelspec": {
   "display_name": "Python 3",
   "language": "python",
   "name": "python3"
  },
  "language_info": {
   "codemirror_mode": {
    "name": "ipython",
    "version": 3
   },
   "file_extension": ".py",
   "mimetype": "text/x-python",
   "name": "python",
   "nbconvert_exporter": "python",
   "pygments_lexer": "ipython3",
   "version": "3.6.2"
  }
 },
 "nbformat": 4,
 "nbformat_minor": 2
}
